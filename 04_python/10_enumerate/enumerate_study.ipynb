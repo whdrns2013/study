{
 "cells": [
  {
   "cell_type": "markdown",
   "id": "c63e62f1",
   "metadata": {},
   "source": [
    "## Enumerate  "
   ]
  },
  {
   "cell_type": "markdown",
   "id": "59969e7e",
   "metadata": {},
   "source": [
    "https://gemini.google.com/app/5ffc626a5f00311f?hl=ko"
   ]
  },
  {
   "cell_type": "markdown",
   "id": "b4a9b3a2",
   "metadata": {},
   "source": [
    "## 기본 설명  \n",
    "- 순환 가능한 이터레이터로, 입력으로 받은 순환 가능한 객체에 대해 (인덱스, 값) 쌍을 반환한다.  \n",
    "- enumerate 자체는 iterator 객체이나, 동작 방식은 generator 와 동일하다.  \n",
    "- 인덱스는 0부터 시작하며, 옵션을 사용하면 지정한 숫자부터 시작하는 것으로 바꿀 수 있다.  \n",
    "- 파이썬 내부에 C언어로 구현된 이터레이터이다.  "
   ]
  },
  {
   "cell_type": "code",
   "execution_count": 5,
   "id": "6645732a",
   "metadata": {},
   "outputs": [
    {
     "name": "stdout",
     "output_type": "stream",
     "text": [
      "|idx : 0 | item : apple\n",
      "|idx : 1 | item : banana\n",
      "|idx : 2 | item : chocolate\n"
     ]
    }
   ],
   "source": [
    "# 기본 사용법\n",
    "\n",
    "food_list = ['apple', 'banana', 'chocolate']\n",
    "\n",
    "for idx, item in enumerate(food_list):\n",
    "    print(f'|idx : {idx} | item : {item}')"
   ]
  },
  {
   "cell_type": "code",
   "execution_count": null,
   "id": "67df9e78",
   "metadata": {},
   "outputs": [
    {
     "name": "stdout",
     "output_type": "stream",
     "text": [
      "|idx : 100 | item : apple\n",
      "|idx : 101 | item : banana\n",
      "|idx : 102 | item : chocolate\n"
     ]
    }
   ],
   "source": [
    "# 시작 숫자 변경\n",
    "\n",
    "food_list = ['apple', 'banana', 'chocolate']\n",
    "\n",
    "for idx, item in enumerate(food_list, start=100):\n",
    "    print(f'|idx : {idx} | item : {item}')"
   ]
  },
  {
   "cell_type": "markdown",
   "id": "c526e7ed",
   "metadata": {},
   "source": [
    "## 동작 방식  \n",
    "\n",
    "- 게으른(Lazy) 평가 방식으로 동작한다.  \n",
    "- `enumerate(['a', 'b', 'c'])` 함수가 호출되는 순간 `(0, 'a'), (1, 'b'), (2, 'c')` 를 만들어 두는 게 아니라  \n",
    "- 하나씩 생산 : for 문과 같은 반복 작업에서 요청할 때마다 `(인덱스, 값)` 쌍을 **그때그때 하나씩 만들어서** 반환한다.  \n",
    "- 일회성 : 한 번 for 문을 돌아 끝까지 소모하면 다시 쓸 수 없다.  "
   ]
  },
  {
   "cell_type": "code",
   "execution_count": null,
   "id": "1357f904",
   "metadata": {},
   "outputs": [
    {
     "name": "stdout",
     "output_type": "stream",
     "text": [
      "<enumerate object at 0x000002071741CCC0>\n"
     ]
    }
   ],
   "source": [
    "# print를 해도 내용을 볼 수 없다.  \n",
    "# 게으른 평가 방식으로 동작하므로, 객체 자체를 print해도 그 안의 값을 볼 수 없다.  \n",
    "\n",
    "food_list = ['apple', 'banana', 'chocolate']\n",
    "enm = enumerate(food_list)\n",
    "print(enm)"
   ]
  },
  {
   "cell_type": "code",
   "execution_count": null,
   "id": "ea96df1d",
   "metadata": {},
   "outputs": [
    {
     "name": "stdout",
     "output_type": "stream",
     "text": [
      "[(0, 'apple'), (1, 'banana'), (2, 'chocolate')]\n",
      "0 apple\n",
      "1 banana\n",
      "2 chocolate\n",
      "==== end ====\n"
     ]
    }
   ],
   "source": [
    "# 내용물을 보려면 순환하는 동작을 통해 \"소모시켜\" 출력을 해야 한다.  \n",
    "\n",
    "## (1)\n",
    "food_list = ['apple', 'banana', 'chocolate']\n",
    "enm = enumerate(food_list)\n",
    "print(list(enm))\n",
    "\n",
    "## (2) \n",
    "food_list = ['apple', 'banana', 'chocolate']\n",
    "enm = enumerate(food_list)\n",
    "[print(idx, item) for idx, item in enm]\n",
    "\n",
    "print('==== end ====')"
   ]
  },
  {
   "cell_type": "code",
   "execution_count": null,
   "id": "3257a599",
   "metadata": {},
   "outputs": [
    {
     "name": "stdout",
     "output_type": "stream",
     "text": [
      "[(0, 'apple'), (1, 'banana'), (2, 'chocolate')]\n",
      "==== end ====\n"
     ]
    }
   ],
   "source": [
    "# 한 번 소모하면 다시 쓸 수 없다.  \n",
    "\n",
    "## (1)\n",
    "food_list = ['apple', 'banana', 'chocolate']\n",
    "enm = enumerate(food_list)\n",
    "print(list(enm))\n",
    "\n",
    "## (2) \n",
    "[print(idx, item) for idx, item in enm]\n",
    "print('==== end ====')"
   ]
  },
  {
   "cell_type": "markdown",
   "id": "ee175898",
   "metadata": {},
   "source": [
    "## 구현하기  \n",
    "\n",
    "- enumerate 를 직접 구현할 수 있다.  \n",
    "- 먼저 enumerate 함수의 코드를 살펴보자  "
   ]
  },
  {
   "cell_type": "code",
   "execution_count": null,
   "id": "2eceb6e1",
   "metadata": {},
   "outputs": [],
   "source": [
    "from typing import Generic, Any, TypeVar\n",
    "from collections.abc import Iterable\n",
    "from typing_extensions import Self\n",
    "from types import GenericAlias\n",
    "_T = TypeVar(\"_T\")\n",
    "\n",
    "class enumerate(Generic[_T]):\n",
    "    def __new__(cls, iterable: Iterable[_T], start: int = 0) -> Self: ...\n",
    "    def __iter__(self) -> Self: ...\n",
    "    def __next__(self) -> tuple[int, _T]: ...\n",
    "    def __class_getitem__(cls, item: Any, /) -> GenericAlias: ...\n",
    "\n",
    "# 실제 동작 코드는 C로 작성됨"
   ]
  },
  {
   "cell_type": "code",
   "execution_count": 20,
   "id": "b31bfa11",
   "metadata": {},
   "outputs": [],
   "source": [
    "from typing import Generic, Any, TypeVar\n",
    "from collections.abc import Iterable\n",
    "from typing_extensions import Self\n",
    "from types import GenericAlias\n",
    "_T = TypeVar(\"_T\")\n",
    "\n",
    "class wtf(Generic[_T]):\n",
    "    def __new__(cls, iterable: Iterable[_T], start: int = 0) -> Self: ...\n",
    "    def __iter__(self) -> Self: ...\n",
    "    def __next__(self) -> tuple[int, _T]: ...\n",
    "    def __class_getitem__(cls, item: Any, /) -> GenericAlias: ...\n",
    "    "
   ]
  },
  {
   "cell_type": "code",
   "execution_count": 21,
   "id": "f4c9780a",
   "metadata": {},
   "outputs": [
    {
     "ename": "TypeError",
     "evalue": "'NoneType' object is not iterable",
     "output_type": "error",
     "traceback": [
      "\u001b[31m---------------------------------------------------------------------------\u001b[39m",
      "\u001b[31mTypeError\u001b[39m                                 Traceback (most recent call last)",
      "\u001b[36mCell\u001b[39m\u001b[36m \u001b[39m\u001b[32mIn[21]\u001b[39m\u001b[32m, line 1\u001b[39m\n\u001b[32m----> \u001b[39m\u001b[32m1\u001b[39m \u001b[38;5;28;01mfor\u001b[39;00m idx, item \u001b[38;5;129;01min\u001b[39;00m wtf(food_list):\n\u001b[32m      2\u001b[39m     \u001b[38;5;28mprint\u001b[39m(idx, item)\n",
      "\u001b[31mTypeError\u001b[39m: 'NoneType' object is not iterable"
     ]
    }
   ],
   "source": [
    "for idx, item in wtf(food_list):\n",
    "    print(idx, item)"
   ]
  },
  {
   "cell_type": "code",
   "execution_count": null,
   "id": "acd8e43f",
   "metadata": {},
   "outputs": [],
   "source": []
  }
 ],
 "metadata": {
  "kernelspec": {
   "display_name": "base",
   "language": "python",
   "name": "python3"
  },
  "language_info": {
   "codemirror_mode": {
    "name": "ipython",
    "version": 3
   },
   "file_extension": ".py",
   "mimetype": "text/x-python",
   "name": "python",
   "nbconvert_exporter": "python",
   "pygments_lexer": "ipython3",
   "version": "3.13.5"
  }
 },
 "nbformat": 4,
 "nbformat_minor": 5
}
