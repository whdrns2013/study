{
 "cells": [
  {
   "cell_type": "code",
   "execution_count": 1,
   "id": "680f99d6",
   "metadata": {},
   "outputs": [],
   "source": [
    "import gensim\n",
    "import numpy as np"
   ]
  },
  {
   "cell_type": "code",
   "execution_count": 3,
   "id": "166911ed",
   "metadata": {},
   "outputs": [],
   "source": [
    "vector_a = (1, 10)\n",
    "vector_b = (3, 2)"
   ]
  },
  {
   "cell_type": "code",
   "execution_count": 6,
   "id": "be767a92",
   "metadata": {},
   "outputs": [
    {
     "data": {
      "text/plain": [
       "np.float64(0.6347394233600139)"
      ]
     },
     "execution_count": 6,
     "metadata": {},
     "output_type": "execute_result"
    }
   ],
   "source": [
    "# cosine similarity (직접 구축)\n",
    "\n",
    "def cosine_similarity(vector_a, vector_b):\n",
    "    \n",
    "    # type check\n",
    "    arr_a = vector_a if isinstance(vector_a, np.ndarray) else np.array(vector_a)\n",
    "    arr_b = vector_b if isinstance(vector_b, np.ndarray) else np.array(vector_b)\n",
    "    \n",
    "    # dimension check\n",
    "    if arr_a.shape != arr_b.shape:\n",
    "        raise ValueError(\"dimension dismatched\")\n",
    "    \n",
    "    # cosine similarity\n",
    "    length_sum_a = 0\n",
    "    length_sum_b = 0\n",
    "    point_mul_sum = 0\n",
    "    for point_a, point_b in zip(arr_a, arr_b):\n",
    "        length_sum_a += point_a**2\n",
    "        length_sum_b += point_b**2\n",
    "        point_mul_sum += point_a * point_b\n",
    "    \n",
    "    cosine_similarity = point_mul_sum / ((length_sum_a**0.5) * (length_sum_b**0.5))\n",
    "\n",
    "    return cosine_similarity\n",
    "\n",
    "cosine_similarity(vector_a, vector_b)"
   ]
  },
  {
   "cell_type": "code",
   "execution_count": 7,
   "id": "ad453dec",
   "metadata": {},
   "outputs": [
    {
     "data": {
      "text/plain": [
       "np.float64(0.6347394233600139)"
      ]
     },
     "execution_count": 7,
     "metadata": {},
     "output_type": "execute_result"
    }
   ],
   "source": [
    "# cosine similarity (numpy)\n",
    "\n",
    "import numpy as np\n",
    "from numpy import dot\n",
    "from numpy.linalg import norm\n",
    "\n",
    "arr_a = np.array(vector_a)\n",
    "arr_b = np.array(vector_b)\n",
    "\n",
    "dot(arr_a, arr_b) / (norm(arr_a)*norm(arr_b))"
   ]
  },
  {
   "cell_type": "code",
   "execution_count": 8,
   "id": "ea0d1c56",
   "metadata": {},
   "outputs": [
    {
     "name": "stdout",
     "output_type": "stream",
     "text": [
      "0.6347394233600139\n"
     ]
    }
   ],
   "source": [
    "# cosine similarity (gensim)\n",
    "from gensim.matutils import cossim\n",
    "\n",
    "arr_a = np.array(vector_a)\n",
    "arr_b = np.array(vector_b)\n",
    "\n",
    "# 희소행렬로 변환\n",
    "# sparse_vec_a는 [(0, 1), (1, 2), (2, 3)]가 됩니다.\n",
    "sparse_vector_a = enumerate(arr_a)\n",
    "sparse_vector_b = enumerate(arr_b)\n",
    "\n",
    "# 코사인 유사도\n",
    "sim = cossim(sparse_vector_a, sparse_vector_b)\n",
    "\n",
    "print(sim)"
   ]
  },
  {
   "cell_type": "markdown",
   "id": "691e958b",
   "metadata": {},
   "source": [
    "## Enumerate"
   ]
  },
  {
   "cell_type": "code",
   "execution_count": 5,
   "id": "ef8297c0",
   "metadata": {},
   "outputs": [
    {
     "name": "stdout",
     "output_type": "stream",
     "text": [
      "0 1\n",
      "1 2\n",
      "2 3\n",
      "3 4\n"
     ]
    },
    {
     "data": {
      "text/plain": [
       "[None, None, None, None]"
      ]
     },
     "execution_count": 5,
     "metadata": {},
     "output_type": "execute_result"
    }
   ],
   "source": [
    "import numpy as np\n",
    "\n",
    "enm = enumerate(np.array([1, 2, 3, 4]))\n",
    "[print(i, x) for i, x in enm]"
   ]
  },
  {
   "cell_type": "code",
   "execution_count": null,
   "id": "65f19040",
   "metadata": {},
   "outputs": [],
   "source": []
  }
 ],
 "metadata": {
  "kernelspec": {
   "display_name": "cosine-similarity",
   "language": "python",
   "name": "python3"
  },
  "language_info": {
   "codemirror_mode": {
    "name": "ipython",
    "version": 3
   },
   "file_extension": ".py",
   "mimetype": "text/x-python",
   "name": "python",
   "nbconvert_exporter": "python",
   "pygments_lexer": "ipython3",
   "version": "3.12.11"
  }
 },
 "nbformat": 4,
 "nbformat_minor": 5
}
