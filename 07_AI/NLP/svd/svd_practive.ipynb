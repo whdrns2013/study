{
 "cells": [
  {
   "cell_type": "code",
   "execution_count": 2,
   "id": "091767dd",
   "metadata": {},
   "outputs": [],
   "source": [
    "import numpy as np"
   ]
  },
  {
   "cell_type": "code",
   "execution_count": 7,
   "id": "563bd925",
   "metadata": {},
   "outputs": [
    {
     "name": "stdout",
     "output_type": "stream",
     "text": [
      "DTM의 크기(shape) : (4, 9)\n",
      "[[ 1  0  1  1  0  1  1  0  0]\n",
      " [ 1  0  0  1  1  0  1  0  0]\n",
      " [ 0  1  1  0  2  0  0  1  0]\n",
      " [ 1  0  0  0  0 10  0  1  1]]\n"
     ]
    }
   ],
   "source": [
    "A = np.array([[1,0,1,1,0,1,1,0,0],[1,0,0,1,1,0,1,0,0],[0,1,1,0,2,0,0,1,0],[1,0,0,0,0,10,0,1,1]])\n",
    "print('DTM의 크기(shape) :', np.shape(A))\n",
    "print(A)"
   ]
  },
  {
   "cell_type": "code",
   "execution_count": 8,
   "id": "65b96893",
   "metadata": {},
   "outputs": [
    {
     "name": "stdout",
     "output_type": "stream",
     "text": [
      "==================================================\n",
      "행렬 U :\n",
      "[[-0.11 -0.42  0.6  -0.68]\n",
      " [-0.01 -0.54  0.44  0.72]\n",
      " [-0.01 -0.73 -0.67 -0.14]\n",
      " [-0.99  0.06 -0.06  0.07]]\n",
      "행렬 U의 크기(shape) : (4, 4)\n",
      "==================================================\n",
      "행렬 sigma :\n",
      "[10.21  2.99  2.21  0.95]\n",
      "행렬 sigma의 크기(shape) : (4,)\n",
      "==================================================\n",
      "행렬 V^t :\n",
      "[[-0.11 -0.   -0.01 -0.01 -0.   -0.98 -0.01 -0.1  -0.1 ]\n",
      " [-0.3  -0.24 -0.38 -0.32 -0.67  0.07 -0.32 -0.22  0.02]\n",
      " [ 0.44 -0.3  -0.03  0.47 -0.41 -0.02  0.47 -0.33 -0.03]\n",
      " [ 0.12 -0.14 -0.85  0.05  0.47 -0.01  0.05 -0.07  0.07]\n",
      " [-0.28 -0.83  0.28  0.14  0.31  0.04 -0.18 -0.08 -0.04]\n",
      " [-0.62  0.29 -0.12  0.69 -0.04  0.08 -0.03 -0.1  -0.09]\n",
      " [-0.47 -0.08 -0.02 -0.35  0.02  0.04  0.8   0.05  0.02]\n",
      " [ 0.02 -0.22 -0.17  0.2  -0.26 -0.09  0.03  0.9  -0.02]\n",
      " [-0.06 -0.    0.06  0.1  -0.03 -0.09 -0.01 -0.    0.99]]\n",
      "행렬 V^t의 크기(shape) : (9, 9)\n"
     ]
    }
   ],
   "source": [
    "U, s, VT = np.linalg.svd(A, full_matrices = True)\n",
    "print(\"=\"*50)\n",
    "print('행렬 U :')\n",
    "print(U.round(2))\n",
    "print('행렬 U의 크기(shape) :',np.shape(U))\n",
    "print(\"=\"*50)\n",
    "print('행렬 sigma :')\n",
    "print(s.round(2))\n",
    "print('행렬 sigma의 크기(shape) :',np.shape(s))\n",
    "print(\"=\"*50)\n",
    "print('행렬 V^t :')\n",
    "print(VT.round(2))\n",
    "print('행렬 V^t의 크기(shape) :',np.shape(VT))\n"
   ]
  },
  {
   "cell_type": "code",
   "execution_count": null,
   "id": "d9f15ab2",
   "metadata": {},
   "outputs": [],
   "source": []
  }
 ],
 "metadata": {
  "kernelspec": {
   "display_name": "svd",
   "language": "python",
   "name": "python3"
  },
  "language_info": {
   "codemirror_mode": {
    "name": "ipython",
    "version": 3
   },
   "file_extension": ".py",
   "mimetype": "text/x-python",
   "name": "python",
   "nbconvert_exporter": "python",
   "pygments_lexer": "ipython3",
   "version": "3.12.10"
  }
 },
 "nbformat": 4,
 "nbformat_minor": 5
}
