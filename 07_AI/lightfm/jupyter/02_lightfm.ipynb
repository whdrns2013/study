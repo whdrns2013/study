{
 "cells": [
  {
   "cell_type": "code",
   "execution_count": 1,
   "id": "bbc540c9",
   "metadata": {},
   "outputs": [
    {
     "name": "stderr",
     "output_type": "stream",
     "text": [
      "c:\\Users\\USER\\Documents\\github_personal\\study\\07_AI\\lightfm\\.venv\\lib\\site-packages\\lightfm\\_lightfm_fast.py:9: UserWarning: LightFM was compiled without OpenMP support. Only a single thread will be used.\n",
      "  warnings.warn(\n"
     ]
    }
   ],
   "source": [
    "from lightfm import LightFM\n",
    "import configparser\n",
    "import pandas as pd\n",
    "from sklearn.model_selection import train_test_split\n",
    "from lightfm.data import Dataset\n",
    "from tqdm import tqdm\n",
    "import numpy as np"
   ]
  },
  {
   "cell_type": "markdown",
   "id": "99cfa13e",
   "metadata": {},
   "source": [
    "## Data"
   ]
  },
  {
   "cell_type": "code",
   "execution_count": 2,
   "id": "895c8e9d",
   "metadata": {},
   "outputs": [],
   "source": [
    "# config\n",
    "config = configparser.ConfigParser()\n",
    "config.read('C:/Users/USER/Documents/github_personal/study/07_AI/lightfm/core/config.ini')\n",
    "config['path']['dir.model.trained']\n",
    "train_dataset_dir = config['path']['dir.dataset.train']\n",
    "base_path = 'C:/Users/USER/Documents/github_personal/study/07_AI/lightfm'"
   ]
  },
  {
   "cell_type": "code",
   "execution_count": 3,
   "id": "63c6b054",
   "metadata": {},
   "outputs": [],
   "source": [
    "# data 2 : 선별 데이터\n",
    "dataset_name = 'ml-1m-csv-custom'\n",
    "user_df = pd.read_csv(base_path + '/' + train_dataset_dir + '/' + dataset_name + '/users.csv', index_col=0)\n",
    "item_df = pd.read_csv(base_path + '/' + train_dataset_dir + '/' + dataset_name + '/movies.csv', index_col=0)\n",
    "rating_df = pd.read_csv(base_path + '/' + train_dataset_dir + '/' + dataset_name + '/ratings.csv', index_col=0)"
   ]
  },
  {
   "cell_type": "code",
   "execution_count": 4,
   "id": "c683d44e",
   "metadata": {},
   "outputs": [],
   "source": [
    "# data 1 : 전체 데이터\n",
    "# dataset_name = 'ml-1m-csv'\n",
    "# user_df = pd.read_csv(base_path + '/' + train_dataset_dir + '/' + dataset_name + '/users.csv', index_col=0)\n",
    "# item_df = pd.read_csv(base_path + '/' + train_dataset_dir + '/' + dataset_name + '/movies.csv', index_col=0)\n",
    "# rating_df = pd.read_csv(base_path + '/' + train_dataset_dir + '/' + dataset_name + '/ratings.csv', index_col=0)"
   ]
  },
  {
   "cell_type": "code",
   "execution_count": 5,
   "id": "2bb1ff1e",
   "metadata": {},
   "outputs": [],
   "source": [
    "# make_train_data\n",
    "total_df = rating_df.merge(user_df, how='left', on='user_idx')\n",
    "total_df = total_df.merge(item_df, how='left', on='movie_idx')"
   ]
  },
  {
   "cell_type": "code",
   "execution_count": null,
   "id": "e1da0012",
   "metadata": {},
   "outputs": [],
   "source": [
    "# train data 중 일부만 사용\n",
    "train_df = total_df.sample(100000)"
   ]
  },
  {
   "cell_type": "code",
   "execution_count": 7,
   "id": "6926cda6",
   "metadata": {},
   "outputs": [],
   "source": [
    "# train_test_split\n",
    "train_df, test_df = train_test_split(train_df, test_size=0.2, random_state=42)"
   ]
  },
  {
   "cell_type": "markdown",
   "id": "4fdb5ab5",
   "metadata": {},
   "source": [
    "## Train"
   ]
  },
  {
   "cell_type": "code",
   "execution_count": 8,
   "id": "c7fbeee5",
   "metadata": {},
   "outputs": [
    {
     "name": "stdout",
     "output_type": "stream",
     "text": [
      "Number of users: 6040, Number of items: 3666\n"
     ]
    }
   ],
   "source": [
    "# id columns\n",
    "USER_ID = 'user_idx'\n",
    "ITEM_ID = 'movie_idx'\n",
    "RATING = 'rating'\n",
    "\n",
    "# user feature cols\n",
    "if dataset_name == 'ml-1m-csv':\n",
    "    user_feature_cols = ['gender', 'age', 'occupation']\n",
    "    item_feature_cols = ['genres', 'release_date', 'original_language', 'adult',\n",
    "                        'Action', 'Adventure', 'Animation', \"Children's\", 'Comedy', 'Crime',\n",
    "                        'Documentary', 'Drama', 'Fantasy', 'Film-Noir', 'Horror', 'Musical',\n",
    "                        'Mystery', 'Romance', 'Sci-Fi', 'Thriller', 'War', 'Western']\n",
    "elif dataset_name == 'ml-1m-csv-custom':\n",
    "    user_feature_cols = ['gender', 'age', 'occupation']\n",
    "    item_feature_cols = ['Action', 'Adventure', 'Animation', \"Children's\", 'Comedy', 'Crime',\n",
    "                        'Documentary', 'Drama', 'Fantasy', 'Film-Noir', 'Horror', 'Musical',\n",
    "                        'Mystery', 'Romance', 'Sci-Fi', 'Thriller', 'War', 'Western']\n",
    "\n",
    "# make dataset\n",
    "dataset = Dataset(\n",
    "    user_identity_features = user_feature_cols,\n",
    "    item_identity_features = item_feature_cols\n",
    ")\n",
    "\n",
    "# 데이터 fit : 모든 유저, 아이템, 피처의 고유값을 매핑\n",
    "dataset.fit(\n",
    "    users = (total_df[USER_ID]).astype(str).unique(),\n",
    "    items = (total_df[ITEM_ID].astype(str).unique()),\n",
    "    user_features = total_df[user_feature_cols].apply(lambda x: x.astype(str)).values.flatten(),\n",
    "    item_features = total_df[item_feature_cols].apply(lambda x: x.astype(str)).values.flatten(),\n",
    "    # user_features = user_feature_cols,\n",
    "    # item_features = item_feature_cols\n",
    ")\n",
    "\n",
    "# check\n",
    "num_users, num_items = dataset.interactions_shape()\n",
    "print(f\"Number of users: {num_users}, Number of items: {num_items}\")"
   ]
  },
  {
   "cell_type": "code",
   "execution_count": 9,
   "id": "da8469c3",
   "metadata": {},
   "outputs": [],
   "source": [
    "# create matrix\n",
    "# 상호작용 및 가중치 행렬 생성 (훈련 데이터 사용)\n",
    "(interactions, weights) = dataset.build_interactions(\n",
    "    (str(row[USER_ID]), str(row[ITEM_ID]), row[RATING])\n",
    "    for index, row in train_df.iterrows()\n",
    ")\n",
    "\n",
    "# 테스트 데이터에 대해서도 상호작용 행렬만 생성\n",
    "(test_interactions, _) = dataset.build_interactions(\n",
    "    (str(row[USER_ID]), str(row[ITEM_ID]), row[RATING])\n",
    "    for index, row in train_df.iterrows()\n",
    ")"
   ]
  },
  {
   "cell_type": "code",
   "execution_count": 10,
   "id": "e544318e",
   "metadata": {},
   "outputs": [
    {
     "name": "stderr",
     "output_type": "stream",
     "text": [
      "100%|██████████| 3310/3310 [00:11<00:00, 281.82it/s]\n",
      "100%|██████████| 2125/2125 [00:08<00:00, 259.64it/s]\n"
     ]
    },
    {
     "name": "stdout",
     "output_type": "stream",
     "text": [
      "User features shape: (6040, 6065)\n",
      "Item features shape: (3666, 3667)\n"
     ]
    }
   ],
   "source": [
    "# 유저 피처 행렬 생성\n",
    "# 각 유저 ID에 대해 해당 유저의 모든 피처 값(성별, 연령, 직업 등)을 리스트로 묶어 전달합니다.\n",
    "user_features_data = []\n",
    "# 유저 ID의 고유 목록을 가져옵니다.\n",
    "unique_users = train_df[USER_ID].astype(str).unique()\n",
    "for user_id in tqdm(unique_users):\n",
    "    user_row = train_df[train_df[USER_ID].astype(str) == user_id].iloc[0]\n",
    "    features = []\n",
    "    for col in user_feature_cols:\n",
    "        features.append(str(user_row[col])) # 모든 피처를 문자열로 변환\n",
    "\n",
    "    user_features_data.append((user_id, features))\n",
    "\n",
    "user_features = dataset.build_user_features(user_features_data)\n",
    "\n",
    "# 아이템 피처 행렬 생성\n",
    "# 각 아이템 ID에 대해 해당 아이템의 모든 피처 값(장르, 언어, 성인 여부 등)을 리스트로 묶어 전달합니다.\n",
    "item_features_data = []\n",
    "unique_items = train_df[ITEM_ID].astype(str).unique()\n",
    "for item_id in tqdm(unique_items):\n",
    "    item_row = train_df[train_df[ITEM_ID].astype(str) == item_id].iloc[0]\n",
    "    features = []\n",
    "    # for col in item_feature_cols:\n",
    "        # 원-핫 인코딩된 장르의 경우, 값이 1인 피처 이름만 추가 (LightFM은 피처 이름을 기반으로 매핑)\n",
    "        # if col in ['Action', 'Adventure', 'Animation', \"Children's\", 'Comedy', 'Crime', 'Documentary', 'Drama', 'Fantasy', 'Film-Noir', 'Horror', 'Musical', 'Mystery', 'Romance', 'Sci-Fi', 'Thriller', 'War', 'Western']:\n",
    "        # if col in item_feature_cols:\n",
    "            # if item_row[col] == 1:\n",
    "                # features.append(col)\n",
    "        # else: # 기타 범주형 피처 (release_date, original_language, adult)는 값 자체를 추가\n",
    "            # features.append(str(item_row[col]))\n",
    "\n",
    "    item_features_data.append((item_id, features))\n",
    "\n",
    "item_features = dataset.build_item_features(item_features_data)\n",
    "\n",
    "print(f\"User features shape: {user_features.shape}\")\n",
    "print(f\"Item features shape: {item_features.shape}\")"
   ]
  },
  {
   "cell_type": "code",
   "execution_count": 11,
   "id": "20d35839",
   "metadata": {},
   "outputs": [
    {
     "name": "stderr",
     "output_type": "stream",
     "text": [
      "Epoch: 100%|██████████| 20/20 [00:03<00:00,  5.30it/s]"
     ]
    },
    {
     "name": "stdout",
     "output_type": "stream",
     "text": [
      "LightFM 모델 학습 완료.\n"
     ]
    },
    {
     "name": "stderr",
     "output_type": "stream",
     "text": [
      "\n"
     ]
    }
   ],
   "source": [
    "# -----------------------------------------------------------\n",
    "# LightFM 모델 학습\n",
    "# -----------------------------------------------------------\n",
    "\n",
    "# LightFM 모델 초기화\n",
    "# loss='warp' (Weighted Approximate-Rank Pairwise)는 Implicit Feedback에 적합\n",
    "# loss='logistic' (Logistic)은 Explicit Feedback에 적합 (평점을 가중치로 사용할 때)\n",
    "# no_components: 잠재 요인의 수 (차원)\n",
    "model = LightFM(\n",
    "    loss='logistic',  # Explicit Feedback (별점) 사용\n",
    "    no_components=30, # 잠재 요인의 차원\n",
    "    learning_rate=0.05,\n",
    "    item_alpha=1e-6,  # 아이템 피처에 대한 정규화\n",
    "    user_alpha=1e-6   # 유저 피처에 대한 정규화\n",
    ")\n",
    "\n",
    "# 모델 학습\n",
    "# interactions: 훈련 상호작용 행렬\n",
    "# sample_weight: rating (별점) 가중치 행렬\n",
    "# user_features: 유저 메타데이터 행렬\n",
    "# item_features: 아이템 메타데이터 행렬\n",
    "model.fit(\n",
    "    interactions=interactions,\n",
    "    sample_weight=weights,  # 별점 가중치 사용\n",
    "    user_features=user_features,\n",
    "    item_features=item_features,\n",
    "    epochs=20, # 학습 반복 횟수\n",
    "    num_threads=2, # 병렬 처리 스레드 수\n",
    "    verbose=True\n",
    ")\n",
    "\n",
    "print(\"LightFM 모델 학습 완료.\")"
   ]
  },
  {
   "cell_type": "markdown",
   "id": "11b76fd7",
   "metadata": {},
   "source": [
    "## Predict"
   ]
  },
  {
   "cell_type": "code",
   "execution_count": 12,
   "id": "8098d68c",
   "metadata": {},
   "outputs": [],
   "source": [
    "# 예측을 원하는 유저 ID (예: 1번 유저)와 아이템 ID를 LightFM이 사용할 수 있도록 문자열로 변환합니다.\n",
    "# 주의: 이 유저 ID는 'full_df'에 존재해야 합니다.\n",
    "user_id_to_predict = '665'"
   ]
  },
  {
   "cell_type": "code",
   "execution_count": 13,
   "id": "9cf8504a",
   "metadata": {},
   "outputs": [],
   "source": [
    "# Dataset 객체에서 ID 매핑을 가져옵니다.\n",
    "user_id_map, user_feature_map, item_id_map, item_feature_map = dataset.mapping()\n",
    "\n",
    "# 인덱스를 ID로 다시 변환하기 위한 역 매핑을 만듭니다.\n",
    "item_inverse_map = {v: k for k, v in item_id_map.items()}"
   ]
  },
  {
   "cell_type": "code",
   "execution_count": 14,
   "id": "b8a383f9",
   "metadata": {},
   "outputs": [],
   "source": [
    "# 1. 모든 아이템의 내부 인덱스 (0부터 num_items-1까지)를 준비합니다.\n",
    "n_items = interactions.shape[1]\n",
    "all_item_indices = np.arange(n_items)\n",
    "\n",
    "# 2. 특정 유저의 내부 인덱스를 가져옵니다.\n",
    "# 유저 ID가 매핑에 없으면 KeyError가 발생할 수 있습니다.\n",
    "try:\n",
    "    user_internal_id = user_id_map[user_id_to_predict]\n",
    "except KeyError:\n",
    "    print(f\"Error: User ID {user_id_to_predict} not found in mapping.\")\n",
    "    # 실제 사용 시, 여기서 예외 처리나 기본값 설정을 해야 합니다.\n",
    "    user_internal_id = -1 # 임시 값 설정\n",
    "\n",
    "if user_internal_id != -1:\n",
    "    # 3. 유저가 이미 상호작용한 아이템 (학습 데이터 기준)을 확인하여 제외합니다.\n",
    "    # interactions 행렬에서 해당 유저의 행을 가져와서 0보다 큰 값(상호작용)을 가진 열 인덱스를 찾습니다.\n",
    "    known_positives = interactions.getrow(user_internal_id).indices\n",
    "    \n",
    "    # 추천 후보 목록: 전체 아이템 인덱스에서 이미 상호작용한 아이템을 제외합니다.\n",
    "    recommend_item_indices = np.setdiff1d(all_item_indices, known_positives)\n",
    "else:\n",
    "    # 유저 ID가 없는 경우, 모든 아이템을 추천 후보로 설정하거나 종료합니다.\n",
    "    recommend_item_indices = all_item_indices"
   ]
  },
  {
   "cell_type": "code",
   "execution_count": 18,
   "id": "1e250ebc",
   "metadata": {},
   "outputs": [
    {
     "name": "stdout",
     "output_type": "stream",
     "text": [
      "\n",
      "--- User 665 평가(시청)한 영화 List ---\n",
      "Movie ID: 1258, Title: Shining, The (1980), Genres: Horror\n",
      "Movie ID: 1407, Title: Scream (1996), Genres: Horror|Thriller\n",
      "Movie ID: 590, Title: Dances with Wolves (1990), Genres: Adventure|Drama|Western\n",
      "Movie ID: 799, Title: Frighteners, The (1996), Genres: Comedy|Horror\n",
      "Movie ID: 2288, Title: Thing, The (1982), Genres: Action|Horror|Sci-Fi|Thriller\n",
      "Movie ID: 253, Title: Interview with the Vampire (1994), Genres: Drama|Horror\n",
      "Movie ID: 2867, Title: Fright Night (1985), Genres: Comedy|Horror\n",
      "Movie ID: 1198, Title: Raiders of the Lost Ark (1981), Genres: Action|Adventure\n",
      "Movie ID: 1527, Title: Fifth Element, The (1997), Genres: Action|Sci-Fi\n",
      "Movie ID: 1529, Title: Nowhere (1997), Genres: Drama\n",
      "Movie ID: 1387, Title: Jaws (1975), Genres: Action|Horror\n",
      "Movie ID: 3324, Title: Drowning Mona (2000), Genres: Comedy\n",
      "Movie ID: 2716, Title: Ghostbusters (1984), Genres: Comedy|Horror\n",
      "Movie ID: 188, Title: Prophecy, The (1995), Genres: Horror\n",
      "Movie ID: 1982, Title: Halloween (1978), Genres: Horror\n",
      "Movie ID: 2003, Title: Gremlins (1984), Genres: Comedy|Horror\n",
      "Movie ID: 1214, Title: Alien (1979), Genres: Action|Horror|Sci-Fi|Thriller\n",
      "Movie ID: 1219, Title: Psycho (1960), Genres: Horror|Thriller\n",
      "\n",
      "--- User 665 을 위한 추천 Top 10 ---\n",
      "Movie ID: 110, Braveheart (1995), Action|Drama|War Predicted Score: 0.6778\n",
      "Movie ID: 356, Forrest Gump (1994), Comedy|Romance|War Predicted Score: 0.6757\n",
      "Movie ID: 589, Terminator 2: Judgment Day (1991), Action|Sci-Fi|Thriller Predicted Score: 0.6618\n",
      "Movie ID: 1580, Men in Black (1997), Action|Adventure|Comedy|Sci-Fi Predicted Score: 0.6396\n",
      "Movie ID: 1196, Star Wars: Episode V - The Empire Strikes Back (1980), Action|Adventure|Drama|Sci-Fi|War Predicted Score: 0.6289\n",
      "Movie ID: 1265, Groundhog Day (1993), Comedy|Romance Predicted Score: 0.6270\n",
      "Movie ID: 1210, Star Wars: Episode VI - Return of the Jedi (1983), Action|Adventure|Romance|Sci-Fi|War Predicted Score: 0.6244\n",
      "Movie ID: 260, Star Wars: Episode IV - A New Hope (1977), Action|Adventure|Fantasy|Sci-Fi Predicted Score: 0.6212\n",
      "Movie ID: 1, Toy Story (1995), Animation|Children's|Comedy Predicted Score: 0.6146\n",
      "Movie ID: 2997, Being John Malkovich (1999), Comedy Predicted Score: 0.6095\n"
     ]
    }
   ],
   "source": [
    "# --- 모델 추론 ---\n",
    "# model.predict(유저 내부 인덱스, 아이템 내부 인덱스 배열, 유저 피처, 아이템 피처)\n",
    "scores = model.predict(\n",
    "    user_internal_id, \n",
    "    recommend_item_indices, \n",
    "    user_features=user_features, \n",
    "    item_features=item_features\n",
    ")\n",
    "\n",
    "# --- 상위 N개 추천 ---\n",
    "N_RECOMMENDATIONS = 10 \n",
    "\n",
    "# 점수를 내림차순으로 정렬하여 상위 N개의 인덱스를 가져옵니다.\n",
    "top_indices = np.argsort(-scores)[:N_RECOMMENDATIONS]\n",
    "\n",
    "# 상위 N개의 아이템 인덱스와 예측 점수를 가져옵니다.\n",
    "top_item_indices = recommend_item_indices[top_indices]\n",
    "top_scores = scores[top_indices]\n",
    "\n",
    "# LightFM 내부 인덱스를 원래의 movie_idx ID로 다시 변환합니다.\n",
    "recommendations = [item_inverse_map[idx] for idx in top_item_indices]\n",
    "\n",
    "print(f\"\\n--- User {user_id_to_predict} 평가(시청)한 영화 List ---\")\n",
    "# total_df[total_df['user_idx'] == int(user_id_to_predict)][['movie_idx', 'title', 'genres']]\n",
    "for idx, row in total_df[total_df['user_idx'] == int(user_id_to_predict)].iterrows():\n",
    "    history = f\"Movie ID: {row['movie_idx']}, Title: {row['title']}, Genres: {row['genres']}\"\n",
    "    print(history)\n",
    "\n",
    "print(f\"\\n--- User {user_id_to_predict} 을 위한 추천 Top {N_RECOMMENDATIONS} ---\")\n",
    "for movie_id, score in zip(recommendations, top_scores):\n",
    "    # 실제 영화 제목(title)을 가져오려면 item_df를 사용해야 합니다.\n",
    "    # 예시에서는 movie_idx만 출력합니다.\n",
    "    movie_title = item_df.loc[item_df['movie_idx']==int(movie_id), 'title'].item()\n",
    "    movie_genre = item_df.loc[item_df['movie_idx']==int(movie_id), 'genres'].item()\n",
    "    result = f\"Movie ID: {movie_id}, {movie_title}, {movie_genre} Predicted Score: {score:.4f}\"\n",
    "    print(result)"
   ]
  }
 ],
 "metadata": {
  "kernelspec": {
   "display_name": "lightfm",
   "language": "python",
   "name": "python3"
  },
  "language_info": {
   "codemirror_mode": {
    "name": "ipython",
    "version": 3
   },
   "file_extension": ".py",
   "mimetype": "text/x-python",
   "name": "python",
   "nbconvert_exporter": "python",
   "pygments_lexer": "ipython3",
   "version": "3.10.17"
  }
 },
 "nbformat": 4,
 "nbformat_minor": 5
}
